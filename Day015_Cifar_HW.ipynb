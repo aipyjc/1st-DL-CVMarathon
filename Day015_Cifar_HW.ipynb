{
 "cells": [
  {
   "cell_type": "markdown",
   "metadata": {},
   "source": [
    "## 『本次練習內容』\n",
    "#### 運用這幾天所學觀念搭建一個CNN分類器"
   ]
  },
  {
   "cell_type": "markdown",
   "metadata": {},
   "source": [
    "## 『本次練習目的』\n",
    "  #### 熟悉CNN分類器搭建步驟與原理\n",
    "  #### 學員們可以嘗試不同搭法，如使用不同的Maxpooling層，用GlobalAveragePooling取代Flatten等等"
   ]
  },
  {
   "cell_type": "code",
   "execution_count": 12,
   "metadata": {},
   "outputs": [],
   "source": [
    "from keras.models import Sequential\n",
    "from keras.layers import Convolution2D\n",
    "from keras.layers import MaxPooling2D\n",
    "from keras.layers import Flatten\n",
    "from keras.layers import Dense\n",
    "from keras.layers import Dropout\n",
    "from keras.layers import BatchNormalization\n",
    "from keras.layers import Activation\n",
    "from keras.datasets import cifar10\n",
    "import numpy as np\n",
    "import tensorflow as tf\n",
    "from sklearn.preprocessing import OneHotEncoder\n",
    "#example沒有輸入Activation，記得加上去"
   ]
  },
  {
   "cell_type": "code",
   "execution_count": 28,
   "metadata": {},
   "outputs": [
    {
     "name": "stdout",
     "output_type": "stream",
     "text": [
      "(50000, 32, 32, 3)\n",
      "(10000, 32, 32, 3)\n",
      "120.70756512369792\n",
      "(50000, 32, 32, 3)\n"
     ]
    }
   ],
   "source": [
    "(x_train, y_train), (x_test, y_test) = cifar10.load_data()\n",
    "\n",
    "print(x_train.shape) #(50000, 32, 32, 3)\n",
    "print(x_test.shape)\n",
    "\n",
    "## Normalize Data, 如果是競賽的時候會把RGB分開\n",
    "def normalize(X_train,X_test):\n",
    "        mean = np.mean(X_train,axis=(0,1,2,3))\n",
    "        std = np.std(X_train, axis=(0, 1, 2, 3))\n",
    "        X_train = (X_train-mean)/(std+1e-7)\n",
    "        X_test = (X_test-mean)/(std+1e-7) \n",
    "        return X_train, X_test,mean,std\n",
    "    \n",
    "    \n",
    "## Normalize Training and Testset    \n",
    "x_train, x_test,mean_train,std_train = normalize(x_train, x_test) \n",
    "print(mean_train)\n",
    "print(x_train.shape)"
   ]
  },
  {
   "cell_type": "code",
   "execution_count": 16,
   "metadata": {},
   "outputs": [
    {
     "name": "stdout",
     "output_type": "stream",
     "text": [
      "[1. 0. 1. 0. 1. 0. 0. 1. 1. 0. 1. 0. 1. 0. 1. 0. 1. 0. 1. 0.]\n",
      "[1. 0. 1. 0. 1. 0. 1. 0. 1. 0. 1. 0. 1. 0. 1. 0. 0. 1. 1. 0.]\n"
     ]
    }
   ],
   "source": [
    "## OneHot Label 由(None, 1)-(None, 10)\n",
    "## ex. label=2,變成[0,0,1,0,0,0,0,0,0,0]\n",
    "one_hot=OneHotEncoder()\n",
    "y_train=one_hot.fit_transform(y_train).toarray()\n",
    "y_test=one_hot.transform(y_test).toarray()\n",
    "print(y_test[0])\n",
    "print(y_test[1])"
   ]
  },
  {
   "cell_type": "code",
   "execution_count": 15,
   "metadata": {},
   "outputs": [
    {
     "name": "stderr",
     "output_type": "stream",
     "text": [
      "/Library/Frameworks/Python.framework/Versions/3.7/lib/python3.7/site-packages/ipykernel_launcher.py:25: UserWarning: Update your `Dense` call to the Keras 2 API: `Dense(activation=\"softmax\", units=10)`\n"
     ]
    },
    {
     "name": "stdout",
     "output_type": "stream",
     "text": [
      "Epoch 1/3\n",
      "50000/50000 [==============================] - 196s 4ms/step - loss: 4.2938 - accuracy: 0.3842\n",
      "Epoch 2/3\n",
      "50000/50000 [==============================] - 201s 4ms/step - loss: 1.4953 - accuracy: 0.5228\n",
      "Epoch 3/3\n",
      "50000/50000 [==============================] - 189s 4ms/step - loss: 1.1192 - accuracy: 0.6163\n"
     ]
    },
    {
     "data": {
      "text/plain": [
       "<keras.callbacks.callbacks.History at 0x132ccdcd0>"
      ]
     },
     "execution_count": 15,
     "metadata": {},
     "output_type": "execute_result"
    }
   ],
   "source": [
    "\n",
    "classifier=Sequential()\n",
    "\n",
    "#卷積組合\n",
    "classifier.add(Convolution2D(32, (3,3), padding='same', input_shape=x_train.shape[1:]))#32,3,3,input_shape=(32,32,3),activation='relu''\n",
    "classifier.add(BatchNormalization())\n",
    "classifier.add(Activation('relu'))\n",
    "\n",
    "\n",
    "#卷積組合\n",
    "classifier.add(Convolution2D(64, (3,3), input_shape=x_train.shape[1:]))#32,3,3,input_shape=(32,32,3),activation='relu''\n",
    "classifier.add(BatchNormalization())\n",
    "classifier.add(Activation('relu'))\n",
    "\n",
    "'''自己決定MaxPooling2D放在哪裡'''\n",
    "#classifier.add(MaxPooling2D(pool_size=(2,2)))\n",
    "classifier.add(MaxPooling2D(pool_size=(2,2)))\n",
    "\n",
    "#flatten\n",
    "classifier.add(Flatten())\n",
    "\n",
    "#FC\n",
    "classifier.add(Dense(256)) #output_dim=100,activation=relu\n",
    "\n",
    "#輸出\n",
    "classifier.add(Dense(output_dim=10,activation='softmax'))\n",
    "\n",
    "#超過兩個就要選categorical_crossentrophy\n",
    "classifier.compile(optimizer = 'adam', loss = 'categorical_crossentropy', metrics = ['accuracy'])\n",
    "classifier.fit(x_train,y_train,batch_size=100,epochs=3)"
   ]
  },
  {
   "cell_type": "markdown",
   "metadata": {},
   "source": [
    "## 預測新圖片，輸入影像前處理要與訓練時相同\n",
    "#### ((X-mean)/(std+1e-7) ):這裡的mean跟std是訓練集的\n",
    "## 維度如下方示範"
   ]
  },
  {
   "cell_type": "code",
   "execution_count": 33,
   "metadata": {},
   "outputs": [
    {
     "name": "stdout",
     "output_type": "stream",
     "text": [
      "[[1.25087984e-03 1.22035730e-04 3.49712442e-03 4.70637351e-01\n",
      "  1.15916028e-03 2.45054606e-02 5.58651462e-02 1.34805078e-03\n",
      "  4.40180868e-01 1.43390161e-03]\n",
      " [3.53596956e-02 6.99509025e-01 8.58351450e-06 5.14643148e-07\n",
      "  6.65605910e-07 1.09459943e-08 2.48606824e-07 3.21147610e-07\n",
      "  2.58845747e-01 6.27523055e-03]\n",
      " [3.92809600e-01 4.08425480e-02 1.61274392e-02 2.10533221e-03\n",
      "  7.53572094e-04 6.10485076e-05 3.25425674e-04 1.25126098e-03\n",
      "  5.32801747e-01 1.29219554e-02]\n",
      " [1.81096390e-01 1.13809863e-02 3.89419049e-02 1.09155243e-03\n",
      "  2.07166909e-03 1.82810563e-05 1.38690718e-03 1.70532541e-04\n",
      "  7.60710418e-01 3.13132233e-03]\n",
      " [1.49511527e-06 1.15369885e-05 4.08349093e-03 1.34786600e-02\n",
      "  6.09457016e-01 1.98960421e-03 3.70904267e-01 3.67503126e-05\n",
      "  3.28258539e-05 4.27245368e-06]]\n",
      "(array([3]),)\n",
      "(array([1]),)\n",
      "(array([8]),)\n",
      "(array([8]),)\n",
      "(array([4]),)\n"
     ]
    }
   ],
   "source": [
    "input_example=(np.zeros(shape=(1,32,32,3))-mean_train)/(std_train+1e-7) #zero是全黑的圖，不是有意義的圖，但還是有一個最像的\n",
    "classifier.predict(input_example) #預測的圖片要跟被訓練的圖片一樣大\n",
    "#被測試的圖片也要經過normalization\n",
    "#print(np.zeros(shape=(8,8,3))) #有8個8*3的陣列\n",
    "#print(input_example)\n",
    "y_predict = classifier.predict(x_test[:5])\n",
    "print(y_predict)\n",
    "\n",
    "for i in y_predict:\n",
    "    print(np.where(i == np.max(i)))"
   ]
  },
  {
   "cell_type": "code",
   "execution_count": 30,
   "metadata": {},
   "outputs": [
    {
     "name": "stdout",
     "output_type": "stream",
     "text": [
      "[[[[  1   2   3]\n",
      "   [  4   5   6]\n",
      "   [  7   8   9]\n",
      "   [ 10  11  12]\n",
      "   [ 13  14  15]\n",
      "   [ 16  17  18]\n",
      "   [ 19  20  21]\n",
      "   [ 22  23  24]]\n",
      "\n",
      "  [[ 25  26  27]\n",
      "   [ 28  29  30]\n",
      "   [ 31  32  33]\n",
      "   [ 34  35  36]\n",
      "   [ 37  38  39]\n",
      "   [ 40  41  42]\n",
      "   [ 43  44  45]\n",
      "   [ 46  47  48]]\n",
      "\n",
      "  [[ 49  50  51]\n",
      "   [ 52  53  54]\n",
      "   [ 55  56  57]\n",
      "   [ 58  59  60]\n",
      "   [ 61  62  63]\n",
      "   [ 64  65  66]\n",
      "   [ 67  68  69]\n",
      "   [ 70  71  72]]\n",
      "\n",
      "  [[ 73  74  75]\n",
      "   [ 76  77  78]\n",
      "   [ 79  80  81]\n",
      "   [ 82  83  84]\n",
      "   [ 85  86  87]\n",
      "   [ 88  89  90]\n",
      "   [ 91  92  93]\n",
      "   [ 94  95  96]]]\n",
      "\n",
      "\n",
      " [[[ 97  98  99]\n",
      "   [100 101 102]\n",
      "   [103 104 105]\n",
      "   [106 107 108]\n",
      "   [109 110 111]\n",
      "   [112 113 114]\n",
      "   [115 116 117]\n",
      "   [118 119 120]]\n",
      "\n",
      "  [[121 122 123]\n",
      "   [124 125 126]\n",
      "   [127 128 129]\n",
      "   [130 131 132]\n",
      "   [133 134 135]\n",
      "   [136 137 138]\n",
      "   [139 140 141]\n",
      "   [142 143 144]]\n",
      "\n",
      "  [[145 146 147]\n",
      "   [148 149 150]\n",
      "   [151 152 153]\n",
      "   [154 155 156]\n",
      "   [157 158 159]\n",
      "   [160 161 162]\n",
      "   [163 164 165]\n",
      "   [166 167 168]]\n",
      "\n",
      "  [[169 170 171]\n",
      "   [172 173 174]\n",
      "   [175 176 177]\n",
      "   [178 179 180]\n",
      "   [181 182 183]\n",
      "   [184 185 186]\n",
      "   [187 188 189]\n",
      "   [190 191 192]]]]\n",
      "1\n",
      "96.5\n",
      "2\n",
      "[[[ 49.  50.  51.]\n",
      "  [ 52.  53.  54.]\n",
      "  [ 55.  56.  57.]\n",
      "  [ 58.  59.  60.]\n",
      "  [ 61.  62.  63.]\n",
      "  [ 64.  65.  66.]\n",
      "  [ 67.  68.  69.]\n",
      "  [ 70.  71.  72.]]\n",
      "\n",
      " [[ 73.  74.  75.]\n",
      "  [ 76.  77.  78.]\n",
      "  [ 79.  80.  81.]\n",
      "  [ 82.  83.  84.]\n",
      "  [ 85.  86.  87.]\n",
      "  [ 88.  89.  90.]\n",
      "  [ 91.  92.  93.]\n",
      "  [ 94.  95.  96.]]\n",
      "\n",
      " [[ 97.  98.  99.]\n",
      "  [100. 101. 102.]\n",
      "  [103. 104. 105.]\n",
      "  [106. 107. 108.]\n",
      "  [109. 110. 111.]\n",
      "  [112. 113. 114.]\n",
      "  [115. 116. 117.]\n",
      "  [118. 119. 120.]]\n",
      "\n",
      " [[121. 122. 123.]\n",
      "  [124. 125. 126.]\n",
      "  [127. 128. 129.]\n",
      "  [130. 131. 132.]\n",
      "  [133. 134. 135.]\n",
      "  [136. 137. 138.]\n",
      "  [139. 140. 141.]\n",
      "  [142. 143. 144.]]]\n",
      "3\n",
      "[[[ 37.  38.  39.]\n",
      "  [ 40.  41.  42.]\n",
      "  [ 43.  44.  45.]\n",
      "  [ 46.  47.  48.]\n",
      "  [ 49.  50.  51.]\n",
      "  [ 52.  53.  54.]\n",
      "  [ 55.  56.  57.]\n",
      "  [ 58.  59.  60.]]\n",
      "\n",
      " [[133. 134. 135.]\n",
      "  [136. 137. 138.]\n",
      "  [139. 140. 141.]\n",
      "  [142. 143. 144.]\n",
      "  [145. 146. 147.]\n",
      "  [148. 149. 150.]\n",
      "  [151. 152. 153.]\n",
      "  [154. 155. 156.]]]\n"
     ]
    }
   ],
   "source": [
    "a = np.arange(1,193).reshape(2,4,8,3)\n",
    "print(a)\n",
    "\n",
    "mean = np.mean(a,axis=(0,1,2,3)) #axis的維度跟shape是一樣的\n",
    "print('1')\n",
    "print(mean)\n",
    "\n",
    "mean = np.mean(a,axis=0)\n",
    "print('2')\n",
    "print(mean)\n",
    "\n",
    "mean = np.mean(a,axis=1) #axis為1代表的是reshape時'4'的那個維度, 所以37=1+25+49+73\n",
    "print('3')\n",
    "print(mean)"
   ]
  },
  {
   "cell_type": "code",
   "execution_count": null,
   "metadata": {},
   "outputs": [],
   "source": []
  }
 ],
 "metadata": {
  "kernelspec": {
   "display_name": "Python 3",
   "language": "python",
   "name": "python3"
  },
  "language_info": {
   "codemirror_mode": {
    "name": "ipython",
    "version": 3
   },
   "file_extension": ".py",
   "mimetype": "text/x-python",
   "name": "python",
   "nbconvert_exporter": "python",
   "pygments_lexer": "ipython3",
   "version": "3.7.4"
  }
 },
 "nbformat": 4,
 "nbformat_minor": 2
}
